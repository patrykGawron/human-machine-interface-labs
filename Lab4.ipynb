{
 "cells": [
  {
   "cell_type": "code",
   "execution_count": 1,
   "id": "aa31d1be-4356-47f7-9f26-dd9686f85d49",
   "metadata": {},
   "outputs": [],
   "source": [
    "%matplotlib widget\n",
    "from matplotlib import pyplot as plt\n",
    "import pylab as py\n",
    "import numpy as np\n",
    "from scipy.fft import fft, fftfreq\n",
    "from scipy import signal\n",
    "\n",
    "def sin(f = 1, T = 1, Fs = 128, phi =0 ):\n",
    "    dt = 1.0/Fs\n",
    "    t = np.arange(0,T,dt)\n",
    "    s = np.sin(2*np.pi*f*t + phi)\n",
    "    return (s,t)  "
   ]
  },
  {
   "cell_type": "markdown",
   "id": "d9580090-57e2-4613-91c4-0b08c51f0558",
   "metadata": {
    "tags": []
   },
   "source": [
    "# Zadanie 1"
   ]
  },
  {
   "cell_type": "markdown",
   "id": "052aee58-2a38-4487-9e1a-f579d0f81b5d",
   "metadata": {},
   "source": [
    "Pytanie jaka częstotliwość sygnału?"
   ]
  },
  {
   "cell_type": "code",
   "execution_count": null,
   "id": "b9fefd57-f566-461a-b295-a3291d9a6dfd",
   "metadata": {},
   "outputs": [],
   "source": [
    "fs = 48_000 "
   ]
  },
  {
   "cell_type": "markdown",
   "id": "e49aeaa2-69aa-4102-a08c-dccf7b7752a3",
   "metadata": {},
   "source": [
    "# Zadanie 2"
   ]
  },
  {
   "cell_type": "code",
   "execution_count": null,
   "id": "4f0747fb-cb66-4f8c-bbf4-286d84088cfa",
   "metadata": {},
   "outputs": [],
   "source": [
    "fs = 500\n",
    "T = 2\n",
    "\n",
    "x = sin(3, T, fs)[0] + sin(10, T, fs)[0] + sin(25, T, fs)[0] + \\\n",
    "sin(35, T, fs)[0] + sin("
   ]
  },
  {
   "cell_type": "markdown",
   "id": "9ef7ac08-673c-48ee-b7bb-69a3d12cf28a",
   "metadata": {},
   "source": [
    "# Zadanie 3"
   ]
  },
  {
   "cell_type": "markdown",
   "id": "23cea2cc-cc28-4095-b7dd-5df7b125bead",
   "metadata": {},
   "source": [
    "# Zadanie 4"
   ]
  },
  {
   "cell_type": "markdown",
   "id": "43bd5614-f196-4e92-8d3c-98da877d624c",
   "metadata": {},
   "source": [
    "# Zadanie 5"
   ]
  },
  {
   "cell_type": "markdown",
   "id": "eab2f12b-98c0-476a-a14b-51c77700bba2",
   "metadata": {},
   "source": [
    "# Zadanie 6"
   ]
  }
 ],
 "metadata": {
  "kernelspec": {
   "display_name": "Python 3 (ipykernel)",
   "language": "python",
   "name": "python3"
  },
  "language_info": {
   "codemirror_mode": {
    "name": "ipython",
    "version": 3
   },
   "file_extension": ".py",
   "mimetype": "text/x-python",
   "name": "python",
   "nbconvert_exporter": "python",
   "pygments_lexer": "ipython3",
   "version": "3.9.5"
  }
 },
 "nbformat": 4,
 "nbformat_minor": 5
}
